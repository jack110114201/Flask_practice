{
 "cells": [
  {
   "cell_type": "code",
   "execution_count": null,
   "id": "03215c4f",
   "metadata": {},
   "outputs": [
    {
     "name": "stdout",
     "output_type": "stream",
     "text": [
      " * Serving Flask app \"__main__\" (lazy loading)\n",
      " * Environment: production\n",
      "\u001b[31m   WARNING: This is a development server. Do not use it in a production deployment.\u001b[0m\n",
      "\u001b[2m   Use a production WSGI server instead.\u001b[0m\n",
      " * Debug mode: off\n"
     ]
    },
    {
     "name": "stderr",
     "output_type": "stream",
     "text": [
      " * Running on http://127.0.0.1:5000/ (Press CTRL+C to quit)\n"
     ]
    }
   ],
   "source": [
    "# 載入需要的模組\n",
    "from __future__ import unicode_literals\n",
    "import os\n",
    "from flask import Flask, request, abort\n",
    "from linebot import LineBotApi, WebhookHandler\n",
    "from linebot.exceptions import InvalidSignatureError\n",
    "from linebot.models import MessageEvent, TextMessage, TextSendMessage\n",
    "import random\n",
    "\n",
    "\n",
    "app = Flask(__name__)\n",
    "\n",
    "# LINE 聊天機器人的基本資料\n",
    "line_bot_api = LineBotApi('vDIMOGL+ELqAUW/mA2YZLQUsHvrNWptGQkAxrw3Qe7Wm7aGJuSdXaJQ+kZvgczZXFQgcrn0GqUiuUGUXE8gKoc9V1R9XbZlVMzJUqSKXu0UHrJwucSw2KbmIiSAfujpmtahceYNTuHwWmwGY8Wb3swdB04t89/1O/w1cDnyilFU=') #聊天機器人的 Chennel access token\n",
    "handler = WebhookHandler('923eb6ad003feb917fa8f3735de19df6') #聊天機器人的 Channel secret\n",
    "\n",
    "# 接收 LINE 的資訊\n",
    "@app.route(\"/callback\", methods=['POST'])\n",
    "def callback():\n",
    "    signature = request.headers['X-Line-Signature']\n",
    "\n",
    "    body = request.get_data(as_text=True)\n",
    "    app.logger.info(\"Request body: \" + body)\n",
    "\n",
    "    try:\n",
    "        handler.handle(body, signature)\n",
    "    except InvalidSignatureError:\n",
    "        abort(400)\n",
    "\n",
    "    return 'OK'\n",
    "'''\n",
    "# 學你說話\n",
    "\n",
    "@handler.add(MessageEvent, message=TextMessage)\n",
    "def echo(event):\n",
    "    \n",
    "    if event.source.user_id != \"Udeadbeefdeadbeefdeadbeefdeadbeef\":\n",
    "        line_bot_api.reply_message(\n",
    "            event.reply_token,\n",
    "            TextSendMessage(text=event.message.text)\n",
    "        )\n",
    "'''\n",
    "# 學你說話\n",
    "@handler.add(MessageEvent, message=TextMessage)\n",
    "def pretty_echo(event):\n",
    "    \n",
    "    if event.source.user_id != \"Udeadbeefdeadbeefdeadbeefdeadbeef\":\n",
    "        \n",
    "        # Phoebe 愛唱歌\n",
    "        pretty_note = '♫♪♬'\n",
    "        pretty_text = ''\n",
    "        \n",
    "        for i in event.message.text:\n",
    "        \n",
    "            pretty_text += i\n",
    "            pretty_text += random.choice(pretty_note)\n",
    "    \n",
    "        line_bot_api.reply_message(\n",
    "            event.reply_token,\n",
    "            TextSendMessage(text=pretty_text)\n",
    "        )\n",
    "\n",
    "if __name__ == \"__main__\":\n",
    "    app.run()"
   ]
  },
  {
   "cell_type": "code",
   "execution_count": null,
   "id": "96371676",
   "metadata": {},
   "outputs": [],
   "source": []
  }
 ],
 "metadata": {
  "kernelspec": {
   "display_name": "Python 3",
   "language": "python",
   "name": "python3"
  },
  "language_info": {
   "codemirror_mode": {
    "name": "ipython",
    "version": 3
   },
   "file_extension": ".py",
   "mimetype": "text/x-python",
   "name": "python",
   "nbconvert_exporter": "python",
   "pygments_lexer": "ipython3",
   "version": "3.9.4"
  }
 },
 "nbformat": 4,
 "nbformat_minor": 5
}
