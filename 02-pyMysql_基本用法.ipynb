{
 "cells": [
  {
   "cell_type": "code",
   "execution_count": null,
   "id": "698661fa",
   "metadata": {},
   "outputs": [],
   "source": [
    "!pip install pymysql"
   ]
  },
  {
   "cell_type": "markdown",
   "id": "6f375291",
   "metadata": {},
   "source": [
    "### 建立連線與游標"
   ]
  },
  {
   "cell_type": "code",
   "execution_count": null,
   "id": "87be0728",
   "metadata": {},
   "outputs": [],
   "source": [
    "import pymysql\n",
    "\n",
    "connInfo = {\n",
    "    'host' : 'localhost',\n",
    "    'port' : 3306,\n",
    "    'user' : 'user1',\n",
    "    'passwd' : '************',\n",
    "    'db' : 'TESTDB',\n",
    "    'charset' : 'utf8mb4'\n",
    "}\n",
    "\n",
    "conn = pymysql.connect(**connInfo) #連線資料庫\n",
    "cursor = conn.cursor() #建立游標\n",
    "\n",
    "print('Successfully connected.')\n",
    "\n"
   ]
  },
  {
   "cell_type": "markdown",
   "id": "bfa237ea",
   "metadata": {},
   "source": [
    "### Execute SQL 操作SQL語法"
   ]
  },
  {
   "cell_type": "code",
   "execution_count": null,
   "id": "b56680e8",
   "metadata": {},
   "outputs": [],
   "source": [
    "# 試著 INSERT 一筆資料\n",
    "# 注意 TABLE 欄位的資料型態\n",
    "\n",
    "# 先寫好 SQL 語法\n",
    "sql = \"\"\"\n",
    "INSERT INTO Staff (ID, Name, DeptId, Age, Gender, Salary, recordDt)\n",
    "VALUES ('001', 'Mike', '002', 45, 'M', 60000, '2020-04-24 14:59:57');\n",
    "\"\"\"\n",
    "\n",
    "# 將指令放進 cursor 物件，並執行\n",
    "cursor.execute(sql)  #output的數字代表影響幾筆資料"
   ]
  },
  {
   "cell_type": "code",
   "execution_count": null,
   "id": "012ea156",
   "metadata": {},
   "outputs": [],
   "source": [
    "# 產生時間的方式如下\n",
    "import time\n",
    "t = time.localtime()\n",
    "dt = time.strftime('%Y-%m-%d %H:%M:%S', t)\n",
    "\n",
    "# 試著再 INSERT 一筆資料\n",
    "sql = \"\"\"\n",
    "INSERT INTO Staff (ID, Name, DeptId, Age, Gender, Salary, recordDt)\n",
    "VALUES ('002', 'Judy', '002', 30, 'F', 48000, '{}');\n",
    "\"\"\".format(dt)\n",
    "\n",
    "# 將指令放進 cursor 物件，並執行\n",
    "cursor.execute(sql)"
   ]
  },
  {
   "cell_type": "markdown",
   "id": "972bf0aa",
   "metadata": {},
   "source": [
    "### commit剛剛執行的指令"
   ]
  },
  {
   "cell_type": "code",
   "execution_count": null,
   "id": "cdb6486e",
   "metadata": {},
   "outputs": [],
   "source": [
    "conn.commit()"
   ]
  },
  {
   "cell_type": "markdown",
   "id": "3ca1a801",
   "metadata": {},
   "source": [
    "### 查詢資料"
   ]
  },
  {
   "cell_type": "code",
   "execution_count": null,
   "id": "21b6e52d",
   "metadata": {},
   "outputs": [],
   "source": [
    "# 試著將資料表中的資料取出\n",
    "# 先寫好 SQL 語法\n",
    "#避免用 * ，應該寫出所有欄位名稱\n",
    "sql = \"\"\"\n",
    "SELECT * FROM Staff;  \n",
    "\"\"\"\n",
    "\n",
    "# 將指令放進 cursor 物件，並執行\n",
    "cursor.execute(sql)"
   ]
  },
  {
   "cell_type": "code",
   "execution_count": null,
   "id": "c89b85b7",
   "metadata": {},
   "outputs": [],
   "source": [
    "# 將查詢結果取出\n",
    "data = cursor.fetchall()\n",
    "data"
   ]
  },
  {
   "cell_type": "code",
   "execution_count": null,
   "id": "b8d5b698",
   "metadata": {},
   "outputs": [],
   "source": [
    "# 從資料庫將 datetime 形態的資料取出後，在 Python 中會變成 datetime 物件\n",
    "# 將 datetime 物件轉為字串\n",
    "data[1][6].strftime('%Y-%m-%d %H:%M:%S')"
   ]
  },
  {
   "cell_type": "markdown",
   "id": "1e42a599",
   "metadata": {},
   "source": [
    "### 更新資料"
   ]
  },
  {
   "cell_type": "code",
   "execution_count": null,
   "id": "e4552601",
   "metadata": {},
   "outputs": [],
   "source": [
    "sql = \"\"\"\n",
    "UPDATE TESTDB.Staff \n",
    "SET Salary = Salary * 1.1;\n",
    "\"\"\"\n",
    "\n",
    "cursor.execute(sql)\n",
    "conn.commit()"
   ]
  },
  {
   "cell_type": "markdown",
   "id": "571a70f8",
   "metadata": {},
   "source": [
    "### 刪除資料"
   ]
  },
  {
   "cell_type": "code",
   "execution_count": null,
   "id": "4f4e3534",
   "metadata": {},
   "outputs": [],
   "source": [
    "sql = 'DELETE FROM Staff'\n",
    "\n",
    "cursor.execute(sql)\n",
    "conn.commit()"
   ]
  },
  {
   "cell_type": "markdown",
   "id": "cc4c1345",
   "metadata": {},
   "source": [
    "### 關閉游標與資料庫連線"
   ]
  },
  {
   "cell_type": "code",
   "execution_count": null,
   "id": "ad552aa1",
   "metadata": {},
   "outputs": [],
   "source": [
    "cursor.close()\n",
    "conn.close()"
   ]
  }
 ],
 "metadata": {
  "kernelspec": {
   "display_name": "Python 3",
   "language": "python",
   "name": "python3"
  },
  "language_info": {
   "codemirror_mode": {
    "name": "ipython",
    "version": 3
   },
   "file_extension": ".py",
   "mimetype": "text/x-python",
   "name": "python",
   "nbconvert_exporter": "python",
   "pygments_lexer": "ipython3",
   "version": "3.9.4"
  }
 },
 "nbformat": 4,
 "nbformat_minor": 5
}
