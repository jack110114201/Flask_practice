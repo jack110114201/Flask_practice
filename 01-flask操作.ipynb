{
 "cells": [
  {
   "cell_type": "code",
   "execution_count": null,
   "id": "bed1ce3e",
   "metadata": {},
   "outputs": [],
   "source": [
    "from flask import Flask,request\n",
    "\n",
    "app = Flask(__name__)   #告訴Flask 函數定義在哪。 __name__ 代表這隻程式\n",
    "\n",
    "@app.route('/')  #定義接口\n",
    "def index():  #當有人訪問時，所執行的函式/邏輯(接口裡的函數)\n",
    "    return 'Hello Flask'\n",
    "\n",
    "\n",
    "@app.route('/helloFlask/Allen')  #可以自訂網址   #RESTful API/ REST API 概念 -> 撰寫API styleb\n",
    "def helloFlask(): \n",
    "    return 'Hello Allen'\n",
    "\n",
    "\n",
    "@app.route('/helloFlask/<name>')  #在輸入網址的時候，name可以自定義\n",
    "def helloFlask1(name): #接收自定義參數(name)\n",
    "    outStr = 'Hello {}!'\n",
    "    return outStr.format(name)\n",
    "\n",
    "@app.route('/addTwoNumber/<x>/<y>')\n",
    "def addTwoNumber(x,y):\n",
    "    return str(int(x)+int(y)) #把字串轉換成數值\n",
    "                              #再把加總後的數值轉成字串\n",
    "                              #因為rerurn 不接受數值格式\n",
    "\n",
    "@app.route('/hello_get') #透過?的方式，輸入網址\n",
    "\n",
    "def hello_get():\n",
    "    username = request.args.get('username') #接收網址變數上的值 #都是字串\n",
    "    userage = request.args.get('userage')\n",
    "   \n",
    "    if userage == None:\n",
    "        return 'Hello {}.'.format(username)\n",
    "    else:\n",
    "        return 'Hello {} , your are {} yeats old'.format(username, userage)\n",
    "\n",
    "if __name__ == '__main__':\n",
    "    app.run(host='0.0.0.0', port=5000)\n",
    "\n",
    "#設定host (0.0.0.0) 代表在相同網域內(網卡)的所有人都可以來訪問伺服器 \n",
    "#例如連接同一台wifi\n",
    "#預設port 為 5000\n"
   ]
  },
  {
   "cell_type": "markdown",
   "id": "350d8717",
   "metadata": {},
   "source": [
    "### 製作表單"
   ]
  },
  {
   "cell_type": "code",
   "execution_count": null,
   "id": "036df1d9",
   "metadata": {},
   "outputs": [],
   "source": [
    "from flask import Flask,request\n",
    "app = Flask(__name__)\n",
    "\n",
    "\n",
    "# 接收form表單\n",
    "\n",
    "@app.route('/hello_post', methods=['GET','POST']) #使用methods讓這個接口可以同時接收get與post的request\n",
    "def hello_post():\n",
    "    outStr = \"\"\"\n",
    "    <form action=\"/hello_post\" method=\"POST\"> #這個表單是使用post的方式送出\n",
    "        <label>What's your name?</label>\n",
    "        <br>\n",
    "        <input name = \"username\">\n",
    "        <button type=\"submit\">SUBMIT</button>    \n",
    "    </form>    \n",
    "    \"\"\"\n",
    "    method = request.method # 回傳值會是 'GET' / 'POST' 的字串\n",
    "    \n",
    "    if method == 'POST':\n",
    "        username = request.form.get('username') #取得 \"username\" 的值\n",
    "        outStr += '<h1>Hello {} ! </h1>'.format(username)         \n",
    "        \n",
    "    return outStr\n",
    "\n",
    "if __name__ == '__main__':\n",
    "    app.run(host='0.0.0.0', port=5000)\n"
   ]
  },
  {
   "cell_type": "markdown",
   "id": "0657fa93",
   "metadata": {},
   "source": [
    "### 表單(套用模板)"
   ]
  },
  {
   "cell_type": "code",
   "execution_count": null,
   "id": "c2532d77",
   "metadata": {},
   "outputs": [],
   "source": [
    "from flask import Flask, request, render_template\n",
    "app = Flask(__name__)\n",
    "\n",
    "@app.route('/hello_post', methods=['GET','POST'])\n",
    "def hello_post():\n",
    "    method = request.method # 回傳值會是 'GET' / 'POST' 的字串\n",
    "    username = ''\n",
    "    if method == 'POST':\n",
    "        username = request.form.get('username') #取得 \"username\" 的值\n",
    "        \n",
    "    return render_template('hello_post.html',  #使用的模板名稱\n",
    "                          method = method,     ##左邊的變數代表模板的變數，右邊的變數代表程式的變數\n",
    "                          username=username               \n",
    "                          )\n"
   ]
  },
  {
   "cell_type": "markdown",
   "id": "eff6733d",
   "metadata": {},
   "source": [
    "### 使用其他py檔進行運算"
   ]
  },
  {
   "cell_type": "code",
   "execution_count": null,
   "id": "5ea3db84",
   "metadata": {},
   "outputs": [],
   "source": [
    "from flask import Flask, request, jsonify\n",
    "import poker as p\n",
    "import series as s\n",
    "app = Flask(__name__)\n",
    "\n",
    "@app.route('/pokerGame')\n",
    "def pokerGame():\n",
    "    playerAmount = int(request.args.get('playerAmount'))\n",
    "    outStr = p.poker(playerAmount) #JSON/ Dict()\n",
    "    return jsonify(outStr)\n",
    "\n",
    "\n",
    "@app.route('/series')\n",
    "def series():\n",
    "    n = int(request.args.get('n')) #接收的參數\n",
    "    output = str(s.Func(n)) #output只能是字串，所以才要轉換\n",
    "    return output\n",
    "\n",
    "\n",
    "if __name__ == '__main__':\n",
    "    app.run(host='0.0.0.0', port=5000)"
   ]
  },
  {
   "cell_type": "markdown",
   "id": "9d2554a2",
   "metadata": {},
   "source": [
    "### 使用static資料夾裡的圖片或css"
   ]
  },
  {
   "cell_type": "code",
   "execution_count": null,
   "id": "7aaa46b1",
   "metadata": {},
   "outputs": [],
   "source": [
    "from flask import Flask, request, jsonify\n",
    " \n",
    "#app = Flask(__name__, static_url_path='/static', static_folder='./static') #static_url_path/static_folder 預設為static\n",
    "app = Flask(__name__, static_url_path='/tfb102', static_folder='./tfb102') #網址指向目錄所在位置\n",
    "\n",
    "@app.route('/hello_google')\n",
    "def hello_google():\n",
    "    outStr = \"\"\"\n",
    "    <link href=\"/tfb102/css/mystyle.css\" rel=\"stylesheet\" type=\"text/css\">\n",
    "    <div>\n",
    "        This is a book\n",
    "    </div>\n",
    "    <div class=\"test\">\n",
    "        This is a book\n",
    "    </div>\n",
    "    <div>\n",
    "        <img src=\"/tfb102/image/googlelogo.png\"\n",
    "    </div>\n",
    "    \"\"\"\n",
    "    \n",
    "    return outStr\n",
    "\n",
    "if __name__ == '__main__':\n",
    "    app.run(host='0.0.0.0',port=5000)"
   ]
  },
  {
   "cell_type": "markdown",
   "id": "3d79b8a5",
   "metadata": {},
   "source": [
    "### 套用模板"
   ]
  },
  {
   "cell_type": "code",
   "execution_count": null,
   "id": "59409592",
   "metadata": {},
   "outputs": [],
   "source": [
    "from flask import Flask, request,render_template\n",
    "import poker as p\n",
    "import series as \n",
    "\n",
    "\n",
    "\n",
    "app = Flask(__name__, static_url_path='/tfb102', static_folder='./tfb102')\n",
    "\n",
    "\"--------------------------------------------------------------------------------------------------------------------------\"\n",
    "\n",
    "#@app.route('/')  #定義接口\n",
    "#def index():  #當有人訪問時，所執行的函式/邏輯(接口裡的函數)\n",
    "#    return 'Hello Flask'\n",
    "\n",
    "\n",
    "#套用模板練習\n",
    "@app.route('/')\n",
    "def index():\n",
    "    hello = 'Hello Flask! 123'\n",
    "    return render_template('index.html',   #使用的模板名稱\n",
    "                          hello = hello)   #左邊的變數代表模板的變數，右邊的變數代表程式的變數\n",
    "\n",
    "\"--------------------------------------------------------------------------------------------------------------------------\"\n",
    "\n",
    "\n",
    "#@app.route('/hello_get') #透過?的方式，輸入網址\n",
    "#\n",
    "#def hello_get():\n",
    "#    username = request.args.get('username') #接收網址變數上的值 #都是字串\n",
    "#    userage = request.args.get('userage')\n",
    "#   \n",
    "#    if userage == None:\n",
    "#        return 'Hello {}.'.format(username)\n",
    "#   \n",
    "#    outStr = 'Hello {} , your are {} yeats old'\n",
    "#   \n",
    "#    return outStr.format(username, userage)\n",
    "#\n",
    "\n",
    "#套用模板練習\n",
    "@app.route('/hello_get')\n",
    "def hello_get():\n",
    "    username = request.args.get('username') \n",
    "    userage = request.args.get('userage')\n",
    "    return render_template('hello_get.html',\n",
    "                          username=username,\n",
    "                          userage=userage)\n",
    "\n",
    "\"-------------------------------------------------------------------------------------------------------------------------\"\n",
    "#@app.route('/pokerGame')\n",
    "#def pokerGame():\n",
    "#    playerAmount = int(request.args.get('playerAmount'))\n",
    "#    output = p.poker(playerAmount) #JSON/ Dict()\n",
    "#    return jsonify(output) \n",
    "\n",
    "\n",
    "#使用模板\n",
    "@app.route('/poker', methods=['GET', 'POST'])\n",
    "def poker():\n",
    "    request_method = request.method\n",
    "    players = 0\n",
    "    cards = dict()\n",
    "    if request_method == 'POST':\n",
    "        players = int(request.form.get('players'))\n",
    "        cards = p.poker(players)\n",
    "    return render_template('poker.html', request_method=request_method,\n",
    "                                         cards=cards)\n",
    "\n",
    "\"-------------------------------------------------------------------------------------------------------------------------\"\n",
    "\n",
    "\n",
    "\n",
    "if __name__ == '__main__':\n",
    "    app.run(host='0.0.0.0', port=5000)\n"
   ]
  },
  {
   "cell_type": "markdown",
   "id": "174fed87",
   "metadata": {},
   "source": [
    "### 連接MYSQL"
   ]
  },
  {
   "cell_type": "code",
   "execution_count": null,
   "id": "63bb2575",
   "metadata": {},
   "outputs": [],
   "source": [
    "from flask import Flask, request,render_template\n",
    "from model import model  #model.py\n",
    "\n",
    "\n",
    " \n",
    "app = Flask(__name__)\n",
    "\n",
    "\n",
    "# 連接mysql\n",
    "@app.route('/show_staff')\n",
    "def show_staff():\n",
    "    staff_data = model.getStaff() #使用model.py檔的getStaff() function\n",
    "    column = ['ID', 'Name', 'DeptId', 'Age', 'Gender', 'Salary']\n",
    "    return render_template('show_staff.html', staff_data=staff_data,   #使用模板\n",
    "                                              column=column)\n",
    "\n",
    "\n",
    "\n",
    "\n",
    "if __name__ == '__main__':\n",
    "    app.run(host='0.0.0.0', port=5000)\n",
    "\n",
    "\n",
    "\n"
   ]
  },
  {
   "cell_type": "markdown",
   "id": "c4260c3b",
   "metadata": {},
   "source": [
    "## 使用Blueprint\n",
    "\n",
    "### Flask 應用程式可透過blueprint 拆解為多個程式\n",
    "### 團隊中的每個人可在自己的blueprint 中完成個別功能\n",
    "### 可依功能類型將整個應用程式分為多個blueprint\n",
    "### 最後再由主程式將所有blueprint 做整合並啟動網頁伺服器"
   ]
  },
  {
   "cell_type": "code",
   "execution_count": 2,
   "id": "4e5db404",
   "metadata": {},
   "outputs": [
    {
     "name": "stdout",
     "output_type": "stream",
     "text": [
      " * Serving Flask app '__main__' (lazy loading)\n",
      " * Environment: production\n",
      "\u001b[31m   WARNING: This is a development server. Do not use it in a production deployment.\u001b[0m\n",
      "\u001b[2m   Use a production WSGI server instead.\u001b[0m\n",
      " * Debug mode: off\n"
     ]
    },
    {
     "name": "stderr",
     "output_type": "stream",
     "text": [
      " * Running on all addresses.\n",
      "   WARNING: This is a development server. Do not use it in a production deployment.\n",
      " * Running on http://192.168.0.14:5000/ (Press CTRL+C to quit)\n",
      "192.168.0.14 - - [08/Jun/2021 14:58:02] \"GET / HTTP/1.1\" 404 -\n",
      "192.168.0.14 - - [08/Jun/2021 14:58:52] \"GET / HTTP/1.1\" 404 -\n",
      "192.168.0.14 - - [08/Jun/2021 14:59:12] \"GET /testNamespace/helloworld HTTP/1.1\" 200 -\n",
      "192.168.0.14 - - [08/Jun/2021 14:59:21] \"GET /testNamespace/test HTTP/1.1\" 200 -\n"
     ]
    }
   ],
   "source": [
    "from flask import Flask, Blueprint\n",
    "from test_controller import test_countroller  #test_controller.py\n",
    "\n",
    " \n",
    "app = Flask(__name__, static_url_path='/tfb102', static_folder='./tfb102') #網址指向目錄所在位置\n",
    "app.register_blueprint(test_countroller, url_prefix='/testNamespace') #利用藍圖，可以使用別人的controller ->test_countroller\n",
    "                                                                      #url_prefix -> 為特定blueprint 建立專屬namespace\n",
    "                                                                      #html的port後面要先接url_prefix再接controller\n",
    "\n",
    "if __name__ == '__main__':\n",
    "    app.run(host='0.0.0.0', port=5000)"
   ]
  }
 ],
 "metadata": {
  "kernelspec": {
   "display_name": "Python 3",
   "language": "python",
   "name": "python3"
  },
  "language_info": {
   "codemirror_mode": {
    "name": "ipython",
    "version": 3
   },
   "file_extension": ".py",
   "mimetype": "text/x-python",
   "name": "python",
   "nbconvert_exporter": "python",
   "pygments_lexer": "ipython3",
   "version": "3.9.4"
  }
 },
 "nbformat": 4,
 "nbformat_minor": 5
}
